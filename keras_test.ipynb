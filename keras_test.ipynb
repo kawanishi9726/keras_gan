{
 "cells": [
  {
   "cell_type": "code",
   "execution_count": 16,
   "metadata": {},
   "outputs": [],
   "source": [
    "from keras.datasets import mnist\n",
    "from keras.models import Sequential\n",
    "from keras.layers.core import Dense, Activation\n",
    "from keras.utils import np_utils\n",
    "\n",
    "import numpy as np\n",
    "import matplotlib.pyplot as plt"
   ]
  },
  {
   "cell_type": "code",
   "execution_count": 13,
   "metadata": {},
   "outputs": [],
   "source": [
    "#mnistデータのロード\n",
    "(X_train, y_train), (X_test, y_test) = mnist.load_data()"
   ]
  },
  {
   "cell_type": "code",
   "execution_count": 14,
   "metadata": {},
   "outputs": [],
   "source": [
    "#28*28の画像データを1次元の配列に変換\n",
    "X_train = X_train.reshape(60000, 28*28) / 255\n",
    "X_test = X_test.reshape(10000, 28*28) / 255"
   ]
  },
  {
   "cell_type": "code",
   "execution_count": 17,
   "metadata": {},
   "outputs": [
    {
     "data": {
      "text/plain": [
       "array([[0., 0., 0., ..., 0., 0., 0.],\n",
       "       [1., 0., 0., ..., 0., 0., 0.],\n",
       "       [0., 0., 0., ..., 0., 0., 0.],\n",
       "       ...,\n",
       "       [0., 0., 0., ..., 0., 0., 0.],\n",
       "       [0., 0., 0., ..., 0., 0., 0.],\n",
       "       [0., 0., 0., ..., 0., 1., 0.]], dtype=float32)"
      ]
     },
     "execution_count": 17,
     "metadata": {},
     "output_type": "execute_result"
    }
   ],
   "source": [
    "#onehotベクトルに変換\n",
    "y_train = np_utils.to_categorical(y_train)\n",
    "y_test = np_utils.to_categorical(y_test)\n",
    "y_train"
   ]
  },
  {
   "cell_type": "code",
   "execution_count": 69,
   "metadata": {},
   "outputs": [],
   "source": [
    "#モデルの定義\n",
    "model = Sequential([\n",
    "        Dense(512, input_shape=(784,)),\n",
    "        Activation('sigmoid'),\n",
    "        Dense(256),\n",
    "        Activation('sigmoid'),\n",
    "        Dense(10),\n",
    "        Activation('softmax')\n",
    "        ])\n",
    "model.compile(loss='categorical_crossentropy', optimizer='adam', metrics=['accuracy'])\n",
    "loss = []"
   ]
  },
  {
   "cell_type": "code",
   "execution_count": 65,
   "metadata": {},
   "outputs": [
    {
     "name": "stdout",
     "output_type": "stream",
     "text": [
      "Train on 54000 samples, validate on 6000 samples\n",
      "Epoch 1/50\n",
      "54000/54000 [==============================] - 4s 70us/step - loss: 0.6445 - acc: 0.8300 - val_loss: 0.2442 - val_acc: 0.9285\n",
      "Epoch 2/50\n",
      "54000/54000 [==============================] - 3s 64us/step - loss: 0.2612 - acc: 0.9233 - val_loss: 0.1820 - val_acc: 0.9497\n",
      "Epoch 3/50\n",
      "54000/54000 [==============================] - 3s 64us/step - loss: 0.2046 - acc: 0.9391 - val_loss: 0.1501 - val_acc: 0.9588\n",
      "Epoch 4/50\n",
      "54000/54000 [==============================] - 3s 64us/step - loss: 0.1652 - acc: 0.9507 - val_loss: 0.1249 - val_acc: 0.9653\n",
      "Epoch 5/50\n",
      "54000/54000 [==============================] - 3s 64us/step - loss: 0.1342 - acc: 0.9600 - val_loss: 0.1134 - val_acc: 0.9685\n",
      "Epoch 6/50\n",
      "54000/54000 [==============================] - 4s 66us/step - loss: 0.1122 - acc: 0.9668 - val_loss: 0.1013 - val_acc: 0.9712\n",
      "Epoch 7/50\n",
      "54000/54000 [==============================] - 3s 64us/step - loss: 0.0919 - acc: 0.9731 - val_loss: 0.0932 - val_acc: 0.9727\n",
      "Epoch 8/50\n",
      "54000/54000 [==============================] - 3s 65us/step - loss: 0.0774 - acc: 0.9764 - val_loss: 0.0892 - val_acc: 0.9732\n",
      "Epoch 9/50\n",
      "54000/54000 [==============================] - 3s 64us/step - loss: 0.0643 - acc: 0.9811 - val_loss: 0.0819 - val_acc: 0.9748\n",
      "Epoch 10/50\n",
      "54000/54000 [==============================] - 4s 66us/step - loss: 0.0551 - acc: 0.9831 - val_loss: 0.0743 - val_acc: 0.9778\n",
      "Epoch 11/50\n",
      "54000/54000 [==============================] - 4s 69us/step - loss: 0.0467 - acc: 0.9860 - val_loss: 0.0732 - val_acc: 0.9788\n",
      "Epoch 12/50\n",
      "54000/54000 [==============================] - 4s 70us/step - loss: 0.0383 - acc: 0.9892 - val_loss: 0.0710 - val_acc: 0.9795\n",
      "Epoch 13/50\n",
      "54000/54000 [==============================] - 4s 67us/step - loss: 0.0326 - acc: 0.9904 - val_loss: 0.0699 - val_acc: 0.9797\n",
      "Epoch 14/50\n",
      "54000/54000 [==============================] - 4s 71us/step - loss: 0.0265 - acc: 0.9929 - val_loss: 0.0820 - val_acc: 0.9765\n",
      "Epoch 15/50\n",
      "54000/54000 [==============================] - 4s 73us/step - loss: 0.0231 - acc: 0.9939 - val_loss: 0.0696 - val_acc: 0.9802\n",
      "Epoch 16/50\n",
      "54000/54000 [==============================] - 4s 74us/step - loss: 0.0182 - acc: 0.9954 - val_loss: 0.0666 - val_acc: 0.9810\n",
      "Epoch 17/50\n",
      "54000/54000 [==============================] - 4s 72us/step - loss: 0.0151 - acc: 0.9965 - val_loss: 0.0663 - val_acc: 0.9822\n",
      "Epoch 18/50\n",
      "54000/54000 [==============================] - 4s 68us/step - loss: 0.0120 - acc: 0.9975 - val_loss: 0.0686 - val_acc: 0.9808\n",
      "Epoch 19/50\n",
      "54000/54000 [==============================] - 4s 69us/step - loss: 0.0095 - acc: 0.9981 - val_loss: 0.0670 - val_acc: 0.9815\n",
      "Epoch 20/50\n",
      "54000/54000 [==============================] - 4s 69us/step - loss: 0.0081 - acc: 0.9986 - val_loss: 0.0642 - val_acc: 0.9840\n",
      "Epoch 21/50\n",
      "54000/54000 [==============================] - 4s 65us/step - loss: 0.0074 - acc: 0.9984 - val_loss: 0.0752 - val_acc: 0.9825\n",
      "Epoch 22/50\n",
      "54000/54000 [==============================] - 4s 68us/step - loss: 0.0059 - acc: 0.9989 - val_loss: 0.0741 - val_acc: 0.9802\n",
      "Epoch 23/50\n",
      "54000/54000 [==============================] - 4s 69us/step - loss: 0.0048 - acc: 0.9993 - val_loss: 0.0707 - val_acc: 0.9823\n",
      "Epoch 24/50\n",
      "54000/54000 [==============================] - 4s 73us/step - loss: 0.0033 - acc: 0.9995 - val_loss: 0.0702 - val_acc: 0.9832\n",
      "Epoch 25/50\n",
      "54000/54000 [==============================] - 4s 69us/step - loss: 0.0025 - acc: 0.9998 - val_loss: 0.0783 - val_acc: 0.9812\n",
      "Epoch 26/50\n",
      "54000/54000 [==============================] - 4s 69us/step - loss: 0.0028 - acc: 0.9997 - val_loss: 0.0805 - val_acc: 0.9805\n",
      "Epoch 27/50\n",
      "54000/54000 [==============================] - 4s 72us/step - loss: 0.0031 - acc: 0.9996 - val_loss: 0.0781 - val_acc: 0.9818\n",
      "Epoch 28/50\n",
      "54000/54000 [==============================] - 4s 71us/step - loss: 0.0067 - acc: 0.9982 - val_loss: 0.0879 - val_acc: 0.9818\n",
      "Epoch 29/50\n",
      "54000/54000 [==============================] - 4s 70us/step - loss: 0.0044 - acc: 0.9988 - val_loss: 0.0750 - val_acc: 0.9837\n",
      "Epoch 30/50\n",
      "54000/54000 [==============================] - 4s 67us/step - loss: 0.0014 - acc: 0.9999 - val_loss: 0.0825 - val_acc: 0.9820\n",
      "Epoch 31/50\n",
      "54000/54000 [==============================] - 4s 68us/step - loss: 7.6467e-04 - acc: 0.9999 - val_loss: 0.0775 - val_acc: 0.9818\n",
      "Epoch 32/50\n",
      "54000/54000 [==============================] - 4s 67us/step - loss: 4.9359e-04 - acc: 1.0000 - val_loss: 0.0755 - val_acc: 0.9843\n",
      "Epoch 33/50\n",
      "54000/54000 [==============================] - 4s 68us/step - loss: 4.2908e-04 - acc: 1.0000 - val_loss: 0.0749 - val_acc: 0.9848\n",
      "Epoch 34/50\n",
      "54000/54000 [==============================] - ETA: 0s - loss: 3.3776e-04 - acc: 1.000 - 4s 65us/step - loss: 3.3679e-04 - acc: 1.0000 - val_loss: 0.0772 - val_acc: 0.9838\n",
      "Epoch 35/50\n",
      "54000/54000 [==============================] - 4s 70us/step - loss: 2.9535e-04 - acc: 1.0000 - val_loss: 0.0743 - val_acc: 0.9840\n",
      "Epoch 36/50\n",
      "54000/54000 [==============================] - 4s 68us/step - loss: 2.8314e-04 - acc: 1.0000 - val_loss: 0.0746 - val_acc: 0.9842\n",
      "Epoch 37/50\n",
      "54000/54000 [==============================] - 4s 67us/step - loss: 2.8468e-04 - acc: 1.0000 - val_loss: 0.0786 - val_acc: 0.9833\n",
      "Epoch 38/50\n",
      "54000/54000 [==============================] - 4s 67us/step - loss: 0.0161 - acc: 0.9944 - val_loss: 0.0901 - val_acc: 0.9818\n",
      "Epoch 39/50\n",
      "54000/54000 [==============================] - 4s 69us/step - loss: 0.0021 - acc: 0.9995 - val_loss: 0.0773 - val_acc: 0.9855\n",
      "Epoch 40/50\n",
      "54000/54000 [==============================] - 4s 71us/step - loss: 4.2246e-04 - acc: 1.0000 - val_loss: 0.0782 - val_acc: 0.9842\n",
      "Epoch 41/50\n",
      "54000/54000 [==============================] - 4s 68us/step - loss: 2.4097e-04 - acc: 1.0000 - val_loss: 0.0785 - val_acc: 0.9848\n",
      "Epoch 42/50\n",
      "54000/54000 [==============================] - 4s 67us/step - loss: 1.9012e-04 - acc: 1.0000 - val_loss: 0.0766 - val_acc: 0.9855\n",
      "Epoch 43/50\n",
      "54000/54000 [==============================] - 4s 67us/step - loss: 1.6406e-04 - acc: 1.0000 - val_loss: 0.0784 - val_acc: 0.9847\n",
      "Epoch 44/50\n",
      "54000/54000 [==============================] - 4s 68us/step - loss: 1.4239e-04 - acc: 1.0000 - val_loss: 0.0787 - val_acc: 0.9850\n",
      "Epoch 45/50\n",
      "54000/54000 [==============================] - 4s 68us/step - loss: 1.2788e-04 - acc: 1.0000 - val_loss: 0.0783 - val_acc: 0.9858\n",
      "Epoch 46/50\n",
      "54000/54000 [==============================] - 4s 67us/step - loss: 1.1544e-04 - acc: 1.0000 - val_loss: 0.0790 - val_acc: 0.9858\n",
      "Epoch 47/50\n",
      "54000/54000 [==============================] - 4s 67us/step - loss: 1.0279e-04 - acc: 1.0000 - val_loss: 0.0797 - val_acc: 0.9852\n",
      "Epoch 48/50\n",
      "54000/54000 [==============================] - 4s 68us/step - loss: 9.4849e-05 - acc: 1.0000 - val_loss: 0.0798 - val_acc: 0.9853\n",
      "Epoch 49/50\n",
      "54000/54000 [==============================] - 4s 73us/step - loss: 8.5209e-05 - acc: 1.0000 - val_loss: 0.0810 - val_acc: 0.9855\n",
      "Epoch 50/50\n",
      "54000/54000 [==============================] - 4s 73us/step - loss: 8.0102e-05 - acc: 1.0000 - val_loss: 0.0804 - val_acc: 0.9853\n",
      "10000/10000 [==============================] - 0s 43us/step\n",
      "test accuracy :  [0.08604598225265768, 0.9828]\n"
     ]
    }
   ],
   "source": [
    "#学習 \n",
    "#verboseに1を入れると進捗を出力\n",
    "#epochsは学習回数\n",
    "#validation_split クロスバリデーションに利用する訓練データの割合\n",
    "hist = model.fit(X_train, y_train, batch_size=200, verbose=1, epochs=50, validation_split=0.1)\n",
    "loss += hist.history[\"loss\"]\n",
    "score = model.evaluate(X_test, y_test, verbose=1)\n",
    "#score[loss,accuracy]\n",
    "print('test accuracy : ', score)"
   ]
  },
  {
   "cell_type": "code",
   "execution_count": 66,
   "metadata": {},
   "outputs": [
    {
     "data": {
      "text/plain": [
       "[<matplotlib.lines.Line2D at 0xbb057d0a58>]"
      ]
     },
     "execution_count": 66,
     "metadata": {},
     "output_type": "execute_result"
    },
    {
     "data": {
      "image/png": "[encoded data removed]",
      "text/plain": [
       "<Figure size 432x288 with 1 Axes>"
      ]
     },
     "metadata": {
      "needs_background": "light"
     },
     "output_type": "display_data"
    }
   ],
   "source": [
    "plt.plot(loss)"
   ]
  },
  {
   "cell_type": "code",
   "execution_count": null,
   "metadata": {},
   "outputs": [],
   "source": []
  }
 ],
 "metadata": {
  "kernelspec": {
   "display_name": "Python 3",
   "language": "python",
   "name": "python3"
  },
  "language_info": {
   "codemirror_mode": {
    "name": "ipython",
    "version": 3
   },
   "file_extension": ".py",
   "mimetype": "text/x-python",
   "name": "python",
   "nbconvert_exporter": "python",
   "pygments_lexer": "ipython3",
   "version": "3.7.3"
  }
 },
 "nbformat": 4,
 "nbformat_minor": 2
}
