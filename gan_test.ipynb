{
 "cells": [
  {
   "cell_type": "code",
   "execution_count": 8,
   "metadata": {},
   "outputs": [],
   "source": [
    "from keras.datasets import mnist\n",
    "from keras.models import Sequential\n",
    "from keras.layers.core import Dense, Activation\n",
    "from keras.layers import BatchNormalization\n",
    "from keras.utils import np_utils\n",
    "from keras.regularizers import l1_l2\n",
    "from keras.layers.advanced_activations import LeakyReLU\n",
    "\n",
    "import numpy as np\n",
    "import matplotlib.pyplot as plt\n",
    "\n",
    "from tqdm import tqdm\n",
    "import os\n"
   ]
  },
  {
   "cell_type": "code",
   "execution_count": 3,
   "metadata": {},
   "outputs": [],
   "source": [
    "#mnistデータのロード\n",
    "(X_train, y_train), (X_test, y_test) = mnist.load_data()"
   ]
  },
  {
   "cell_type": "code",
   "execution_count": 4,
   "metadata": {},
   "outputs": [],
   "source": [
    "#28*28の画像データを1次元の配列に変換\n",
    "X_train = X_train.reshape(60000, 28*28) / 255\n",
    "X_test = X_test.reshape(10000, 28*28) / 255"
   ]
  },
  {
   "cell_type": "code",
   "execution_count": 5,
   "metadata": {},
   "outputs": [],
   "source": [
    "def plot_generated(noise, generator_model, examples=9, plot_dim=(3,3), size=(7,7), epoch=None):\n",
    "    # noiseからgeneratorで画像を生成\n",
    "    generated_images = generator_model.predict(noise)\n",
    "\n",
    "    # 表示\n",
    "    fig = plt.figure(figsize=size)\n",
    "    for i in range(examples):\n",
    "        plt.subplot(plot_dim[0], plot_dim[1], i+1)\n",
    "        img = generated_images[i, :]\n",
    "        img = img.reshape((28, 28))\n",
    "        plt.tight_layout()\n",
    "        plt.imshow(img, cmap=\"gray\")\n",
    "        plt.axis(\"off\")\n",
    "    plt.savefig(os.path.join(\"generated_figures\", str(epoch) + \".png\"))\n",
    "    plt.close()"
   ]
  },
  {
   "cell_type": "code",
   "execution_count": 6,
   "metadata": {},
   "outputs": [],
   "source": [
    "def plot_metrics(metrics, epoch=None):\n",
    "    plt.figure(figsize=(10,8))\n",
    "    plt.plot(metrics[\"d\"], label=\"discriminative loss\", color=\"b\")\n",
    "    plt.legend()\n",
    "    plt.savefig(os.path.join(\"metrics\", \"dloss\" + str(epoch) + \".png\"))\n",
    "    plt.close()\n",
    "\n",
    "    plt.figure(figsize=(10,8))\n",
    "    plt.plot(metrics[\"g\"], label=\"generative loss\", color=\"r\")\n",
    "    plt.legend()\n",
    "    plt.savefig(os.path.join(\"metrics\", \"g_loss\" + str(epoch) + \".png\"))\n",
    "    plt.close()"
   ]
  },
  {
   "cell_type": "code",
   "execution_count": 10,
   "metadata": {},
   "outputs": [
    {
     "name": "stderr",
     "output_type": "stream",
     "text": [
      "c:\\users\\g031o164\\appdata\\local\\continuum\\miniconda3\\lib\\site-packages\\ipykernel_launcher.py:6: UserWarning: Update your `BatchNormalization` call to the Keras 2 API: `BatchNormalization()`\n",
      "  \n",
      "c:\\users\\g031o164\\appdata\\local\\continuum\\miniconda3\\lib\\site-packages\\ipykernel_launcher.py:9: UserWarning: Update your `BatchNormalization` call to the Keras 2 API: `BatchNormalization()`\n",
      "  if __name__ == '__main__':\n",
      "c:\\users\\g031o164\\appdata\\local\\continuum\\miniconda3\\lib\\site-packages\\ipykernel_launcher.py:12: UserWarning: Update your `BatchNormalization` call to the Keras 2 API: `BatchNormalization()`\n",
      "  if sys.path[0] == '':\n"
     ]
    },
    {
     "name": "stdout",
     "output_type": "stream",
     "text": [
      "WARNING:tensorflow:From c:\\users\\g031o164\\appdata\\local\\continuum\\miniconda3\\lib\\site-packages\\tensorflow\\python\\framework\\op_def_library.py:263: colocate_with (from tensorflow.python.framework.ops) is deprecated and will be removed in a future version.\n",
      "Instructions for updating:\n",
      "Colocations handled automatically by placer.\n"
     ]
    }
   ],
   "source": [
    "z_input_size = 100\n",
    "leaky_relu = LeakyReLU()\n",
    "\n",
    "generator = Sequential([\n",
    "            Dense(input_dim=z_input_size, units=256, kernel_regularizer=l1_l2(1e-5, 1e-5)),\n",
    "            BatchNormalization(mode=0),\n",
    "            leaky_relu,\n",
    "            Dense(units=512, kernel_regularizer=l1_l2(1e-5, 1e-5)),\n",
    "            BatchNormalization(mode=0),\n",
    "            leaky_relu,\n",
    "            Dense(units=28*28, kernel_regularizer=l1_l2(1e-5, 1e-5)),\n",
    "            BatchNormalization(mode=0),\n",
    "            Activation(\"sigmoid\")\n",
    "            ])\n",
    "generator.compile(loss='binary_crossentropy', optimizer='adam', metrics=['accuracy'])\n",
    "\n",
    "discriminator = Sequential([\n",
    "                Dense(input_dim=784, units=1024, kernel_regularizer=l1_l2(1e-5, 1e-5)),\n",
    "                leaky_relu,\n",
    "                Dense(units=512, kernel_regularizer=l1_l2(1e-5, 1e-5)),\n",
    "                leaky_relu,\n",
    "                Dense(units=256, kernel_regularizer=l1_l2(1e-5, 1e-5)),\n",
    "                leaky_relu,\n",
    "                Dense(units=1, kernel_regularizer=l1_l2(1e-5, 1e-5)),   \n",
    "                Activation(\"sigmoid\")\n",
    "                ])\n",
    "discriminator.compile(loss='binary_crossentropy', optimizer='adam', metrics=['accuracy'])\n"
   ]
  },
  {
   "cell_type": "code",
   "execution_count": 11,
   "metadata": {},
   "outputs": [],
   "source": [
    "discriminator.trainable=False\n",
    "gan = Sequential([\n",
    "                generator,\n",
    "                discriminator\n",
    "                ])\n",
    "gan.compile(loss='binary_crossentropy', optimizer='adam', metrics=['accuracy'])\n",
    "discriminator.trainable=True"
   ]
  },
  {
   "cell_type": "code",
   "execution_count": 12,
   "metadata": {},
   "outputs": [],
   "source": [
    "visualize_train = True\n",
    "def train(g_model,d_model,gan_model,loss_dict, X_train):\n",
    "    with tqdm(total=epoch) as pbar:\n",
    "        for e in range(epoch):\n",
    "            pbar.update(1)\n",
    "\n",
    "            # 生成データをノイズから生成\n",
    "            noise = np.random.uniform(0, 1, size=[batch, z_input_size])\n",
    "            generated_images = g_model.predict_on_batch(noise)\n",
    "\n",
    "            # 訓練データをMNISTデータ群から抜粋\n",
    "            rand_train_index = np.random.randint(0, X_train.shape[0], size=batch)\n",
    "            image_batch = X_train[rand_train_index, :]\n",
    "\n",
    "            # 訓練データと生成データを結合\n",
    "            X = np.vstack((image_batch, generated_images))\n",
    "            # ラベル作成\n",
    "            y = np.zeros(int(2*batch))\n",
    "            y[batch:] = 1\n",
    "            y = y.astype(int)\n",
    "\n",
    "            # discriminatorの学習\n",
    "            d_model.trainable = True\n",
    "            d_loss = d_model.train_on_batch(x=X, y=y)\n",
    "            d_model.trainable = False\n",
    "\n",
    "            # generatorの学習\n",
    "            noise = np.random.uniform(0, 1, size=[batch, z_input_size])\n",
    "            y = np.zeros(batch)\n",
    "            y = y.astype(int)\n",
    "            g_loss = gan_model.train_on_batch(x=noise, y=y)\n",
    "\n",
    "            loss_dict[\"d\"].append(d_loss)\n",
    "            loss_dict[\"g\"].append(g_loss)\n",
    "\n",
    "            # グラフ描画\n",
    "            if e%plot_freq == plot_freq-1:\n",
    "                plot_metrics(loss_dict, int(e/plot_freq))\n",
    "                \n",
    "            # 訓練したgeneratorによる生成画像を可視化\n",
    "            if visualize_train and e < epoch:\n",
    "                if e%z_plot_freq == z_plot_freq-1:\n",
    "                    plot_generated(z_group, generator_model=g_model, epoch=int(e/z_plot_freq))\n",
    "                    #generated_figures.append(fig)"
   ]
  },
  {
   "cell_type": "code",
   "execution_count": 14,
   "metadata": {},
   "outputs": [
    {
     "name": "stdout",
     "output_type": "stream",
     "text": [
      "(9, 100)\n"
     ]
    }
   ],
   "source": [
    "gan_losses = {\"d\":[], \"g\":[], \"f\":[]}\n",
    "epoch = 100000 #エポック\n",
    "batch = 1000 #バッチサイズ\n",
    "z_plot_freq = 1000 #生成画像を保存する間隔\n",
    "plot_freq = 1000 #lossの画像の保存する間隔\n",
    "n_train_samples = 60000 #データセットの大きさ\n",
    "examples = 9 #生成画像の出力枚数\n",
    "\n",
    "z_group_matrix = np.random.uniform(0,1,examples*z_input_size)\n",
    "z_group_matrix = z_group_matrix.reshape([9, z_input_size])\n",
    "z_group = z_group_matrix\n",
    "print(z_group_matrix.shape)\n",
    "\n",
    "generated_figures = []"
   ]
  },
  {
   "cell_type": "code",
   "execution_count": 15,
   "metadata": {},
   "outputs": [
    {
     "name": "stderr",
     "output_type": "stream",
     "text": [
      "\r",
      "  0%|                                               | 0/100000 [00:00<?, ?it/s]"
     ]
    },
    {
     "name": "stdout",
     "output_type": "stream",
     "text": [
      "WARNING:tensorflow:From c:\\users\\g031o164\\appdata\\local\\continuum\\miniconda3\\lib\\site-packages\\tensorflow\\python\\ops\\math_ops.py:3066: to_int32 (from tensorflow.python.ops.math_ops) is deprecated and will be removed in a future version.\n",
      "Instructions for updating:\n",
      "Use tf.cast instead.\n"
     ]
    },
    {
     "name": "stderr",
     "output_type": "stream",
     "text": [
      "100%|████████████████████████████████| 100000/100000 [8:30:58<00:00,  3.33it/s]\n"
     ]
    }
   ],
   "source": [
    "train(generator,discriminator,gan,loss_dict=gan_losses, X_train=X_train,)"
   ]
  },
  {
   "cell_type": "code",
   "execution_count": 37,
   "metadata": {},
   "outputs": [
    {
     "name": "stdout",
     "output_type": "stream",
     "text": [
      "(9, 100)\n",
      "(9, 100)\n",
      "(9, 100)\n",
      "(9, 100)\n",
      "(9, 100)\n",
      "(9, 100)\n",
      "(9, 100)\n",
      "(9, 100)\n",
      "(9, 100)\n",
      "(9, 100)\n"
     ]
    }
   ],
   "source": [
    "examples = 9\n",
    "for i in range(10):\n",
    "    z_group_matrix = np.random.uniform(0,1,examples*z_input_size)\n",
    "    z_group_matrix = z_group_matrix.reshape([examples, z_input_size])\n",
    "    z_group = z_group_matrix\n",
    "    print(z_group.shape)\n",
    "    plot_generated(z_group, generator_model=generator, epoch=\"test\"+str(i))"
   ]
  },
  {
   "cell_type": "code",
   "execution_count": null,
   "metadata": {},
   "outputs": [],
   "source": []
  }
 ],
 "metadata": {
  "kernelspec": {
   "display_name": "Python 3",
   "language": "python",
   "name": "python3"
  },
  "language_info": {
   "codemirror_mode": {
    "name": "ipython",
    "version": 3
   },
   "file_extension": ".py",
   "mimetype": "text/x-python",
   "name": "python",
   "nbconvert_exporter": "python",
   "pygments_lexer": "ipython3",
   "version": "3.7.3"
  }
 },
 "nbformat": 4,
 "nbformat_minor": 2
}
